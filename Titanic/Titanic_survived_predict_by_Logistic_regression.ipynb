{
 "cells": [
  {
   "cell_type": "markdown",
   "metadata": {},
   "source": [
    "# 泰坦尼克号生存者预测\n",
    "\n",
    "根据乘客属性，预测什么样的人能够在泰坦尼克号沉没时生存下来\n",
    "\n",
    "## 数据集说明\n",
    "\n",
    "* train：训练集，标签列为Suvived\n",
    "* test：测试集\n",
    "* gender_submission：测试集标签\n",
    "\n",
    "## 字段说明\n",
    "\n",
    "* PassengerId：\t乘客编号\t1-891\n",
    "* Survived：\t生还情况\t0, 1 0 = No, 1 = Yes\n",
    "* Pclass：\t票的等级\t1,2,3 1 = 1st, 2 = 2nd, 3 = 3rd\n",
    "* Name：\t乘客姓名\tBraund, Mr. Owen Harris\n",
    "* Sex：\t性别\tmale，female\n",
    "* Age：\t年龄\t数字，有缺失值\n",
    "* SibSp：\t兄弟姐妹/配偶在船上\t0-8 of siblings / spouses aboard the Titanic\t\n",
    "* Parch：\t父母/子女在船上\t0-6 of parents / children aboard the Titanic\t\n",
    "* Ticket：\t船票编号\tA/5 21171\n",
    "* Fare：\t票价\t7.25\n",
    "* Cabin：\t船舱号\tC85，有缺失值\n",
    "* Embark：\t登船港\tS,C,Q Port of Embarkation\tC = Cherbourg, Q = Queenstown, S = Southampton\n"
   ]
  },
  {
   "cell_type": "markdown",
   "metadata": {},
   "source": [
    "## 数据预处理\n",
    "\n",
    "* 缺失值处理：Age,Cabin\n",
    "* one-hot编码：Pclass,Embarked"
   ]
  },
  {
   "cell_type": "code",
   "execution_count": 1,
   "metadata": {
    "collapsed": true
   },
   "outputs": [],
   "source": [
    "import pandas as pd\n",
    "import numpy as np\n",
    "import matplotlib.pyplot as plt\n",
    "%matplotlib inline\n",
    "\n",
    "from IPython import display"
   ]
  },
  {
   "cell_type": "code",
   "execution_count": 2,
   "metadata": {},
   "outputs": [],
   "source": [
    "train = pd.read_csv('./data/train.csv')\n",
    "\n",
    "train_lable = train['Survived'].values.reshape(len(train),1)\n",
    "train = train[[  'Pclass', 'Sex', 'Age', 'SibSp','Parch',  'Fare', 'Cabin', 'Embarked']]\n",
    "\n",
    "train['Sex'] = [1 if x == 'male' else 0 for x in train.Sex]\n",
    "train['Age'] = train['Age'].fillna(train['Age'].mean())\n",
    "train['Cabin'] = pd.factorize(train.Cabin)[0]\n",
    "\n",
    "train.fillna(0,inplace=True) \n",
    "train = pd.get_dummies(train,columns=['Pclass','Embarked'])  # 独热编码\n",
    "del train['Embarked_0']"
   ]
  },
  {
   "cell_type": "code",
   "execution_count": 3,
   "metadata": {},
   "outputs": [],
   "source": [
    "test = pd.read_csv('./data/test.csv')\n",
    "\n",
    "test = test[[ 'Pclass', 'Sex', 'Age', 'SibSp','Parch',  'Fare', 'Cabin', 'Embarked']]\n",
    "\n",
    "test['Sex'] = [1 if x == 'male' else 0 for x in test.Sex]\n",
    "test['Age'] = test['Age'].fillna(train['Age'].mean())\n",
    "test['Cabin'] = pd.factorize(test.Cabin)[0]\n",
    "\n",
    "test.fillna(0,inplace=True) \n",
    "test = pd.get_dummies(test,columns=['Pclass','Embarked'])  # 独热编码\n",
    "\n",
    "test_lable =  pd.read_csv('./data/gender_submission.csv')\n",
    "test_lable = test_lable['Survived'].values.reshape(len(test),1)"
   ]
  },
  {
   "cell_type": "markdown",
   "metadata": {},
   "source": [
    "## 搭建神经网络"
   ]
  },
  {
   "cell_type": "code",
   "execution_count": 4,
   "metadata": {},
   "outputs": [
    {
     "name": "stderr",
     "output_type": "stream",
     "text": [
      "d:\\Anaconda3\\lib\\site-packages\\h5py\\__init__.py:34: FutureWarning: Conversion of the second argument of issubdtype from `float` to `np.floating` is deprecated. In future, it will be treated as `np.float64 == np.dtype(float).type`.\n",
      "  from ._conv import register_converters as _register_converters\n"
     ]
    }
   ],
   "source": [
    "import tensorflow as tf\n",
    "\n",
    "x = tf.placeholder('float',shape=[None,12])\n",
    "y = tf.placeholder('float',shape=[None,1])\n",
    "\n",
    "weight = tf.Variable(tf.random_normal([12,1]))\n",
    "bias  = tf.Variable(tf.random_normal([1]))\n",
    "ouput = tf.matmul(x,weight)+bias\n",
    "pred = tf.cast(tf.sigmoid(ouput)>0.5,tf.float32)\n",
    "\n",
    "loss = tf.reduce_mean(tf.nn.sigmoid_cross_entropy_with_logits(labels=y,logits=ouput))\n",
    "\n",
    "train_step = tf.train.GradientDescentOptimizer(0.0003).minimize(loss)\n",
    "accuracy = tf.reduce_mean(tf.cast(tf.equal( pred,y),tf.float32))\n",
    "\n",
    "sess = tf.Session()\n",
    "writer = tf.summary.FileWriter(\"logs/\", sess.graph)\n",
    "sess.run(tf.global_variables_initializer())\n",
    "\n",
    "loss_train = []\n",
    "train_acc = []\n",
    "test_acc = []\n"
   ]
  },
  {
   "cell_type": "code",
   "execution_count": null,
   "metadata": {
    "scrolled": false
   },
   "outputs": [
    {
     "name": "stdout",
     "output_type": "stream",
     "text": [
      "0.46485993 0.7912088 0.93779904\n"
     ]
    },
    {
     "data": {
      "image/png": "[encoded data removed]",
      "text/plain": [
       "<matplotlib.figure.Figure at 0x193df6c0898>"
      ]
     },
     "metadata": {},
     "output_type": "display_data"
    },
    {
     "data": {
      "image/png": "[encoded data removed]",
      "text/plain": [
       "<matplotlib.figure.Figure at 0x1924c9352e8>"
      ]
     },
     "metadata": {},
     "output_type": "display_data"
    }
   ],
   "source": [
    "for i in range(25000):\n",
    "    index = np.random.permutation(len(train_lable))\n",
    "    train = train.iloc[index]\n",
    "    train_lable = train_lable[index]\n",
    "    for n in range(len(train)//100+1):\n",
    "        batch_xs = train[n*100:n*100+300]\n",
    "        batch_ys = train_lable[n*100:n*100+300]\n",
    "        sess.run(train_step,feed_dict={x:batch_xs,y:batch_ys})\n",
    "    if i%1000 == 0:\n",
    "        loss_temp = sess.run(loss,feed_dict={x:batch_xs,y:batch_ys})\n",
    "        loss_train.append(loss_temp)\n",
    "        train_acc_temp = sess.run(accuracy,feed_dict={x:batch_xs,y:batch_ys})\n",
    "        train_acc.append(train_acc_temp)\n",
    "        test_acc_temp = sess.run(accuracy,feed_dict={x:test,y:test_lable})\n",
    "        test_acc.append(test_acc_temp)\n",
    "        display.clear_output(wait=True)\n",
    "        print(loss_temp,train_acc_temp,test_acc_temp)\n",
    "        plt.plot(loss_train,'k-')\n",
    "        plt.title('train loss')\n",
    "        plt.show()\n",
    "        plt.plot(train_acc,'b-',label='train_acc')\n",
    "        plt.plot(test_acc,'r-',label='test_acc')\n",
    "        plt.title('train&test accuracy')\n",
    "        plt.legend()\n",
    "        plt.show()"
   ]
  },
  {
   "cell_type": "code",
   "execution_count": null,
   "metadata": {},
   "outputs": [],
   "source": [
    "import matplotlib.pyplot as plt\n",
    "plt.plot(loss_train,'k-')\n",
    "plt.title('train loss')\n",
    "plt.show()"
   ]
  },
  {
   "cell_type": "code",
   "execution_count": null,
   "metadata": {},
   "outputs": [],
   "source": [
    "plt.plot(train_acc,'b-',label='train_acc')\n",
    "plt.plot(test_acc,'r-',label='test_acc')\n",
    "plt.title('train&test accuracy')\n",
    "plt.legend()\n",
    "plt.show()"
   ]
  },
  {
   "cell_type": "code",
   "execution_count": null,
   "metadata": {
    "collapsed": true
   },
   "outputs": [],
   "source": []
  }
 ],
 "metadata": {
  "kernelspec": {
   "display_name": "Python 3",
   "language": "python",
   "name": "python3"
  },
  "language_info": {
   "codemirror_mode": {
    "name": "ipython",
    "version": 3
   },
   "file_extension": ".py",
   "mimetype": "text/x-python",
   "name": "python",
   "nbconvert_exporter": "python",
   "pygments_lexer": "ipython3",
   "version": "3.6.1"
  }
 },
 "nbformat": 4,
 "nbformat_minor": 2
}
